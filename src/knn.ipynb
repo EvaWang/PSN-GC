{
 "cells": [
  {
   "cell_type": "code",
   "execution_count": 6,
   "metadata": {},
   "outputs": [],
   "source": [
    "class Params():\n",
    "    def __init__(self):\n",
    "        self.train_data_tensor = \"/home/tingwang/PSN-GC/oracle-20k-train-melnyk.pt\"\n",
    "        self.train_data_label = \"/home/tingwang/Oracle-20k/train.pkl\"\n",
    "        self.test_data_tensor = \"/home/tingwang/PSN-GC/oracle-20k-test-melnyk.pt\"\n",
    "        self.test_data_label = \"/home/tingwang/Oracle-20k/test_all.pkl\"\n",
    "        self.label_filepath = \"/home/tingwang/Oracle-20k/jiaguwen_hanziyuan.json\"\n",
    "        # self.train_data_tensor = \"/home/tingwang/PSN-GC/oracle-20k-train-triplet.pt\"\n",
    "        # self.train_data_label = \"/home/tingwang/Oracle-20k/train.pkl\"\n",
    "        # self.test_data_tensor = \"/home/tingwang/PSN-GC/oracle-20k-test-triplet.pt\"\n",
    "        # self.test_data_label = \"/home/tingwang/Oracle-20k/test_all.pkl\"\n",
    "        # self.label_filepath = \"/home/tingwang/Oracle-20k/jiaguwen_hanziyuan.json\"\n",
    "\n",
    "args = Params()"
   ]
  },
  {
   "cell_type": "code",
   "execution_count": 7,
   "metadata": {},
   "outputs": [
    {
     "name": "stdout",
     "output_type": "stream",
     "text": [
      "acc: 0.9009356081452944\n"
     ]
    }
   ],
   "source": [
    "import sys\n",
    "sys.path.append('../nets')\n",
    "from util import read_data\n",
    "\n",
    "import torch\n",
    "from sklearn.neighbors import KNeighborsClassifier\n",
    "from sklearn import preprocessing\n",
    "\n",
    "\n",
    "X_train = torch.load(args.train_data_tensor).cpu().numpy()\n",
    "# X_train = preprocessing.normalize(X_train)\n",
    "train_label = read_data(args.train_data_label)\n",
    "y_train = [label['target_label'] for label in train_label]\n",
    "X_test = torch.load(args.test_data_tensor).cpu().numpy()\n",
    "# X_test = preprocessing.normalize(X_test)\n",
    "\n",
    "\n",
    "knn = KNeighborsClassifier(n_neighbors=30)\n",
    "knn.fit(X_train,y_train)\n",
    "pred = knn.predict(X_test)\n",
    "\n",
    "test_label = read_data(args.test_data_label)\n",
    "y_test = [label['target_label'] for label in test_label]\n",
    "\n",
    "correct = 0\n",
    "data_len = len(y_test)\n",
    "for idx in range(data_len):\n",
    "    if y_test[idx] == pred[idx]:correct = correct+1\n",
    "\n",
    "print(f'acc: {correct/data_len}')"
   ]
  },
  {
   "cell_type": "code",
   "execution_count": 14,
   "metadata": {},
   "outputs": [
    {
     "name": "stdout",
     "output_type": "stream",
     "text": [
      "acc: 0.4991744634012108\n"
     ]
    }
   ],
   "source": [
    "30, 0.9009356081452944\n",
    "25, 0.8976334617501376\n",
    "20, 0.8987341772151899\n",
    "15, 0.9036873968079252\n",
    "10, 0.906989543203082\n",
    "05, 0.9097413318657127\n",
    "01, 0.8998348926802422\n",
    "\n",
    "# normalized\n",
    "\n",
    "15, 0.899284534947716\n",
    "10, 0.9058888277380297\n",
    "05, 0.9097413318657127\n",
    "01, 0.9064391854705559"
   ]
  },
  {
   "cell_type": "code",
   "execution_count": 24,
   "metadata": {},
   "outputs": [
    {
     "name": "stdout",
     "output_type": "stream",
     "text": [
      "Data =  [[10.55180913 19.90093956 19.32574678  7.98118666]\n",
      " [16.31732651  6.87818903 10.75125401  1.02712415]]\n",
      "Normalized Data =  [[0.34332815 0.6475243  0.62880904 0.25968685]\n",
      " [0.78670013 0.33161512 0.51834551 0.04952029]]\n"
     ]
    }
   ],
   "source": [
    "from sklearn import preprocessing\n",
    "import numpy as np\n",
    "\n",
    "a = np.random.random((2, 4))\n",
    "a = a*20\n",
    "print(\"Data = \", a)\n",
    "\n",
    "# normalize the data attributes\n",
    "normalized = preprocessing.normalize(a)\n",
    "print(\"Normalized Data = \", normalized)"
   ]
  },
  {
   "cell_type": "code",
   "execution_count": 3,
   "metadata": {},
   "outputs": [
    {
     "data": {
      "text/plain": [
       "{'target_text': '咢',\n",
       " 'filename': '/home/tingwang/Oracle-20k/train/咢/etymologyJ02772_咢.jpg',\n",
       " 'target_label': 0}"
      ]
     },
     "execution_count": 3,
     "metadata": {},
     "output_type": "execute_result"
    }
   ],
   "source": [
    "train_label = read_data(args.train_data_label)\n",
    "train_label[0]"
   ]
  },
  {
   "cell_type": "code",
   "execution_count": 7,
   "metadata": {},
   "outputs": [
    {
     "name": "stdout",
     "output_type": "stream",
     "text": [
      "anchor: /home/tingwang/Oracle-20k/test/隹/etymologyJ08513_隹.jpg\n",
      "positive: /home/tingwang/Oracle-20k/test/隹/etymologyJ08513_隹.jpg\n",
      "negative: /home/tingwang/Oracle-20k/test/六/etymologyJ29811_六.jpg\n",
      "anchor: /home/tingwang/Oracle-20k/test/渔/etymologyJ25188_渔.jpg\n",
      "positive: /home/tingwang/Oracle-20k/test/渔/etymologyJ25187_渔.jpg\n",
      "negative: /home/tingwang/Oracle-20k/test/酉/etymologyJ31173_酉.jpg\n",
      "anchor: /home/tingwang/Oracle-20k/test/齿/etymologyJ04429_齿.jpg\n",
      "positive: /home/tingwang/Oracle-20k/test/齿/etymologyJ04445_齿.jpg\n",
      "negative: /home/tingwang/Oracle-20k/test/雨/etymologyJ24942_雨.jpg\n",
      "anchor: /home/tingwang/Oracle-20k/test/眔/etymologyJ07898_眔.jpg\n",
      "positive: /home/tingwang/Oracle-20k/test/眔/etymologyJ07878_眔.jpg\n",
      "negative: /home/tingwang/Oracle-20k/test/启/etymologyJ06867_启.jpg\n",
      "anchor: /home/tingwang/Oracle-20k/test/臣/etymologyJ06569_臣.jpg\n",
      "positive: /home/tingwang/Oracle-20k/test/臣/etymologyJ06549_臣.jpg\n",
      "negative: /home/tingwang/Oracle-20k/test/弇/etymologyJ05083_弇.jpg\n",
      "anchor: /home/tingwang/Oracle-20k/test/又/etymologyJ05542_又.jpg\n",
      "positive: /home/tingwang/Oracle-20k/test/又/etymologyJ05558_又.jpg\n",
      "negative: /home/tingwang/Oracle-20k/test/乍/etymologyJ27509_乍.jpg\n",
      "anchor: /home/tingwang/Oracle-20k/test/儿/etymologyJ20495_儿.jpg\n",
      "positive: /home/tingwang/Oracle-20k/test/儿/etymologyJ20495_儿.jpg\n",
      "negative: /home/tingwang/Oracle-20k/test/娥/etymologyJ26142_娥.jpg\n",
      "anchor: /home/tingwang/Oracle-20k/test/吉/etymologyJ02281_吉.jpg\n",
      "positive: /home/tingwang/Oracle-20k/test/吉/etymologyJ02247_吉.jpg\n",
      "negative: /home/tingwang/Oracle-20k/test/五/etymologyJ29745_五.jpg\n",
      "anchor: /home/tingwang/Oracle-20k/test/宫/etymologyJ17887_宫.jpg\n",
      "positive: /home/tingwang/Oracle-20k/test/宫/etymologyJ17886_宫.jpg\n",
      "negative: /home/tingwang/Oracle-20k/test/牢/etymologyJ01804_牢.jpg\n",
      "anchor: /home/tingwang/Oracle-20k/test/乎/etymologyJ11627_乎.jpg\n",
      "positive: /home/tingwang/Oracle-20k/test/乎/etymologyJ11664_乎.jpg\n",
      "negative: /home/tingwang/Oracle-20k/test/勺/etymologyJ28952_勺.jpg\n"
     ]
    }
   ],
   "source": [
    "import sys\n",
    "sys.path.append('../nets')\n",
    "from util import read_data, read_json\n",
    "import random\n",
    "\n",
    "from BaselineDataset_Triplet import BaselineDataset as TripletDataset\n",
    "\n",
    "img_list = read_data(args.test_data_label)\n",
    "train_dataset = TripletDataset(img_list, data_path=\"/home/tingwang/Oracle-20k/test\")\n",
    "\n",
    "for i in range(10):\n",
    "    test = train_dataset[random.randint(0, len(train_dataset))]\n",
    "    print('')\n",
    "\n",
    "# dataloader = DataLoader(train_dataset, 16, shuffle=False)"
   ]
  }
 ],
 "metadata": {
  "interpreter": {
   "hash": "8ab9f929c7ec8eb58908a6dc188a179c9722df95463cda898c6c9c7d03685d48"
  },
  "kernelspec": {
   "display_name": "Python 3.6.9 ('env_matchnet')",
   "language": "python",
   "name": "python3"
  },
  "language_info": {
   "codemirror_mode": {
    "name": "ipython",
    "version": 3
   },
   "file_extension": ".py",
   "mimetype": "text/x-python",
   "name": "python",
   "nbconvert_exporter": "python",
   "pygments_lexer": "ipython3",
   "version": "3.6.9"
  },
  "orig_nbformat": 4
 },
 "nbformat": 4,
 "nbformat_minor": 2
}
